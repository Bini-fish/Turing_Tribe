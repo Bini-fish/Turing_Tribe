{
 "cells": [
  {
   "cell_type": "code",
   "execution_count": 3,
   "id": "91e0ee05-1c31-43b7-8f9c-88aeba3b947f",
   "metadata": {},
   "outputs": [],
   "source": [
    "num = 10"
   ]
  },
  {
   "cell_type": "code",
   "execution_count": 4,
   "id": "0916713c-6e74-438b-9ad7-ee8506ec06ed",
   "metadata": {},
   "outputs": [
    {
     "name": "stdout",
     "output_type": "stream",
     "text": [
      "10\n"
     ]
    }
   ],
   "source": [
    "print(num)"
   ]
  },
  {
   "cell_type": "code",
   "execution_count": 5,
   "id": "e2ab3718-b72a-4bee-8b41-c6af8049d2f3",
   "metadata": {},
   "outputs": [
    {
     "name": "stdin",
     "output_type": "stream",
     "text": [
      "Enter your name:  Biniyam\n",
      "Enter your age:  20\n"
     ]
    }
   ],
   "source": [
    "name = input(\"Enter your name: \")\n",
    "age = input(\"Enter your age: \")"
   ]
  },
  {
   "cell_type": "code",
   "execution_count": 7,
   "id": "5d0b5985-be3b-4e09-a3eb-9248afcc3480",
   "metadata": {},
   "outputs": [
    {
     "name": "stdout",
     "output_type": "stream",
     "text": [
      "Name: Biniyam\n",
      "Age: 20\n"
     ]
    }
   ],
   "source": [
    "print(f\"Name: {name}\\nAge: {age}\")"
   ]
  },
  {
   "cell_type": "code",
   "execution_count": 9,
   "id": "f8484d60-405e-4c2f-8d5b-0257b5537c13",
   "metadata": {},
   "outputs": [
    {
     "name": "stdout",
     "output_type": "stream",
     "text": [
      "Name: Biniyam\n",
      "Age: 20\n"
     ]
    }
   ],
   "source": [
    "print(\"Name: {}\\nAge: {}\".format(name,age))"
   ]
  },
  {
   "cell_type": "code",
   "execution_count": 10,
   "id": "84e6ba64-0c4e-4feb-9745-1e1627baa1de",
   "metadata": {},
   "outputs": [],
   "source": [
    "names = [\"Felah\",\"Biniyam\", \"heldu\"]"
   ]
  },
  {
   "cell_type": "code",
   "execution_count": 21,
   "id": "b48a6141-cc26-49d9-8b06-959987aabf31",
   "metadata": {},
   "outputs": [
    {
     "name": "stdout",
     "output_type": "stream",
     "text": [
      "Names: Felah\n",
      "Names: Biniyam\n",
      "Names: heldu\n"
     ]
    }
   ],
   "source": [
    "for x in names:\n",
    "    print(\"Name: {}\".format(x))"
   ]
  },
  {
   "cell_type": "code",
   "execution_count": 28,
   "id": "66a67fcd-0397-4b4b-b68f-04c5a53aabb5",
   "metadata": {},
   "outputs": [
    {
     "ename": "SyntaxError",
     "evalue": "invalid decimal literal (3226734331.py, line 2)",
     "output_type": "error",
     "traceback": [
      "\u001b[1;36m  Cell \u001b[1;32mIn[28], line 2\u001b[1;36m\u001b[0m\n\u001b[1;33m    print(f\"Height: {number.2f}\".format(number))\u001b[0m\n\u001b[1;37m            ^\u001b[0m\n\u001b[1;31mSyntaxError\u001b[0m\u001b[1;31m:\u001b[0m invalid decimal literal\n"
     ]
    }
   ],
   "source": [
    "number = 154.258\n",
    "print(f\"Height: {number.2f}\".format(number))"
   ]
  },
  {
   "cell_type": "code",
   "execution_count": null,
   "id": "4044fee6-6ebc-4f04-a2c4-71e799937539",
   "metadata": {},
   "outputs": [],
   "source": []
  }
 ],
 "metadata": {
  "kernelspec": {
   "display_name": "Python 3 (ipykernel)",
   "language": "python",
   "name": "python3"
  },
  "language_info": {
   "codemirror_mode": {
    "name": "ipython",
    "version": 3
   },
   "file_extension": ".py",
   "mimetype": "text/x-python",
   "name": "python",
   "nbconvert_exporter": "python",
   "pygments_lexer": "ipython3",
   "version": "3.11.9"
  }
 },
 "nbformat": 4,
 "nbformat_minor": 5
}
