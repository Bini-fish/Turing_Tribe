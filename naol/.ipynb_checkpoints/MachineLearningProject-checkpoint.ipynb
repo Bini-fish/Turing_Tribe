{
 "cells": [
  {
   "cell_type": "markdown",
   "id": "3720056a-7a68-404b-bed0-419c062087f9",
   "metadata": {
    "scrolled": true
   },
   "source": [
    "//Importing Libraries"
   ]
  },
  {
   "cell_type": "code",
   "execution_count": 1,
   "id": "bb34d47f-8664-4853-b387-3fa33794fc74",
   "metadata": {},
   "outputs": [],
   "source": [
    "import pandas as pd\n",
    "import numpy as np\n",
    "import seaborn as sns"
   ]
  },
  {
   "cell_type": "code",
   "execution_count": 2,
   "id": "841bf03e-49d0-46e3-8d2e-a030b4c6c5c3",
   "metadata": {},
   "outputs": [],
   "source": [
    "import matplotlib.pyplot as plt\n",
    "import plotly.express as ex\n",
    "import plotly.graph_objects as gb\n",
    "from sklearn.linear_model import LinearRegression\n",
    "from sklearn.model_selection import train_test_split\n",
    "from sklearn.metrics import mean_squared_error, r2_score"
   ]
  },
  {
   "cell_type": "markdown",
   "id": "39248bf9-5388-429f-a65e-4f09c29326e1",
   "metadata": {},
   "source": [
    "//Reading The file"
   ]
  },
  {
   "cell_type": "code",
   "execution_count": 3,
   "id": "8bac6f53-4cc9-415f-a732-f258bfd4466f",
   "metadata": {},
   "outputs": [],
   "source": [
    "df=pd.read_csv('plane Price.csv')"
   ]
  },
  {
   "cell_type": "markdown",
   "id": "5c5b27cd-5512-44a8-b48a-d8bfec8b3040",
   "metadata": {},
   "source": [
    "//Changing into float"
   ]
  },
  {
   "cell_type": "code",
   "execution_count": 4,
   "id": "1b95127d-622e-4a41-8cf0-ecb009a3154f",
   "metadata": {
    "scrolled": true
   },
   "outputs": [],
   "source": [
    "df['All eng rate of climb']=df['All eng rate of climb'].str.replace(',','',regex=False)\n",
    "df['All eng rate of climb']=df['All eng rate of climb'].str.replace('w/3bld','',regex=False)\n",
    "df['All eng rate of climb']=pd.to_numeric(df['All eng rate of climb'])"
   ]
  },
  {
   "cell_type": "code",
   "execution_count": 5,
   "id": "0c3b2f90-9e29-4fb2-90d9-dffd54208f14",
   "metadata": {},
   "outputs": [],
   "source": [
    "df['Landing over 50ft']=df['Landing over 50ft'].str.replace(',','',regex=False)\n",
    "df['Landing over 50ft']=df['Landing over 50ft'].str.replace('Orig','',regex=False)\n",
    "df['Landing over 50ft']=pd.to_numeric(df['Landing over 50ft'])"
   ]
  },
  {
   "cell_type": "code",
   "execution_count": 6,
   "id": "7d97a74b-8be2-4e05-ad22-ccc73b47cb98",
   "metadata": {},
   "outputs": [
    {
     "name": "stdout",
     "output_type": "stream",
     "text": [
      "<class 'pandas.core.frame.DataFrame'>\n",
      "RangeIndex: 517 entries, 0 to 516\n",
      "Data columns (total 16 columns):\n",
      " #   Column                   Non-Null Count  Dtype  \n",
      "---  ------                   --------------  -----  \n",
      " 0   Model Name               517 non-null    object \n",
      " 1   Engine Type              517 non-null    object \n",
      " 2   HP or lbs thr ea engine  517 non-null    object \n",
      " 3   Max speed Knots          497 non-null    object \n",
      " 4   Rcmnd cruise Knots       507 non-null    float64\n",
      " 5   Stall Knots dirty        502 non-null    float64\n",
      " 6   Fuel gal/lbs             517 non-null    int64  \n",
      " 7   All eng rate of climb    513 non-null    float64\n",
      " 8   Eng out rate of climb    491 non-null    float64\n",
      " 9   Takeoff over 50ft        492 non-null    float64\n",
      " 10  Landing over 50ft        516 non-null    float64\n",
      " 11  Empty weight lbs         516 non-null    object \n",
      " 12  Length ft/in             517 non-null    object \n",
      " 13  Wing span ft/in          517 non-null    object \n",
      " 14  Range N.M.               499 non-null    object \n",
      " 15  Price                    507 non-null    float64\n",
      "dtypes: float64(7), int64(1), object(8)\n",
      "memory usage: 64.8+ KB\n"
     ]
    }
   ],
   "source": [
    "df.info()"
   ]
  },
  {
   "cell_type": "code",
   "execution_count": 7,
   "id": "5f81e008-3e1d-4846-be4e-41021c2eec36",
   "metadata": {},
   "outputs": [],
   "source": [
    "df['HP or lbs thr ea engine']=df['HP or lbs thr ea engine'].str.replace(',','',regex=False)\n",
    "df['HP or lbs thr ea engine']=df['HP or lbs thr ea engine'].str.replace('wet','',regex=False)\n",
    "df['HP or lbs thr ea engine']=df['HP or lbs thr ea engine'].str.replace(' dry','',regex=False)\n",
    "df['HP or lbs thr ea engine']=pd.to_numeric(df['HP or lbs thr ea engine'])"
   ]
  },
  {
   "cell_type": "code",
   "execution_count": 8,
   "id": "964a197b-f66f-4630-bfd0-973351057a3b",
   "metadata": {},
   "outputs": [],
   "source": [
    "df['Max speed Knots']=df['Max speed Knots'].str.replace('.','',regex=False)\n",
    "df['Max speed Knots']=df['Max speed Knots'].str.replace(' Mach','',regex=False)\n",
    "df['Max speed Knots']=pd.to_numeric(df['Max speed Knots'])"
   ]
  },
  {
   "cell_type": "code",
   "execution_count": 9,
   "id": "9ae14da0-cf46-4b20-baad-119137ce1c2f",
   "metadata": {},
   "outputs": [],
   "source": [
    "df['Empty weight lbs']=df['Empty weight lbs'].str.replace(',','',regex=False)\n",
    "df['Empty weight lbs']=pd.to_numeric(df['Empty weight lbs'])"
   ]
  },
  {
   "cell_type": "code",
   "execution_count": 10,
   "id": "81e6638c-9689-4a76-a005-b436e0e6dfbc",
   "metadata": {},
   "outputs": [],
   "source": [
    "df['Length ft/in']=df['Length ft/in'].str.replace(',','',regex=False)\n",
    "df['Length ft/in']=df['Length ft/in'].str.replace('/','',regex=False)\n",
    "df['Length ft/in']=df['Length ft/in'].str.replace('NC','',regex=False)\n",
    "df['Length ft/in']=df['Length ft/in'].str.replace('Orig','',regex=False)\n",
    "df['Length ft/in']=pd.to_numeric(df['Length ft/in'])"
   ]
  },
  {
   "cell_type": "code",
   "execution_count": 11,
   "id": "13a1ef5e-d12a-46ec-9fe2-c07d5b4d97c3",
   "metadata": {},
   "outputs": [],
   "source": [
    "df['Wing span ft/in']=df['Wing span ft/in'].str.replace(',','',regex=False)\n",
    "df['Wing span ft/in']=df['Wing span ft/in'].str.replace('/','',regex=False)\n",
    "df['Wing span ft/in']=df['Wing span ft/in'].str.replace('NC','',regex=False)\n",
    "df['Wing span ft/in']=df['Wing span ft/in'].str.replace('Orig','',regex=False)\n",
    "df['Wing span ft/in']=pd.to_numeric(df['Wing span ft/in'])"
   ]
  },
  {
   "cell_type": "code",
   "execution_count": 12,
   "id": "9d9373f5-b4be-433d-9c95-5f8e6c96f26c",
   "metadata": {},
   "outputs": [],
   "source": [
    "df['Range N.M.']=df['Range N.M.'].str.replace(',','',regex=False)\n",
    "df['Range N.M.']=pd.to_numeric(df['Range N.M.'])"
   ]
  },
  {
   "cell_type": "code",
   "execution_count": 13,
   "id": "4447c928-e85a-4466-bcff-6436885b28f5",
   "metadata": {
    "scrolled": true
   },
   "outputs": [
    {
     "data": {
      "text/plain": [
       "array(['Piston', 'Propjet', 'Jet', 'piston'], dtype=object)"
      ]
     },
     "execution_count": 13,
     "metadata": {},
     "output_type": "execute_result"
    }
   ],
   "source": [
    "df['Engine Type'].unique()"
   ]
  },
  {
   "cell_type": "code",
   "execution_count": 14,
   "id": "a3556595-ade1-413e-b677-ab16c97601db",
   "metadata": {},
   "outputs": [],
   "source": [
    "setattr(df['Engine Type'],'Piston',0);\n",
    "setattr(df['Engine Type'],'Propjet',1);\n",
    "setattr(df['Engine Type'],'Jet',2);\n",
    "setattr(df['Engine Type'],'piston',3);"
   ]
  },
  {
   "cell_type": "code",
   "execution_count": 15,
   "id": "65293054-7add-4edf-be82-23a3810f43a0",
   "metadata": {
    "scrolled": true
   },
   "outputs": [
    {
     "name": "stdout",
     "output_type": "stream",
     "text": [
      "<class 'pandas.core.frame.DataFrame'>\n",
      "RangeIndex: 517 entries, 0 to 516\n",
      "Data columns (total 16 columns):\n",
      " #   Column                   Non-Null Count  Dtype  \n",
      "---  ------                   --------------  -----  \n",
      " 0   Model Name               517 non-null    object \n",
      " 1   Engine Type              517 non-null    object \n",
      " 2   HP or lbs thr ea engine  517 non-null    int64  \n",
      " 3   Max speed Knots          497 non-null    float64\n",
      " 4   Rcmnd cruise Knots       507 non-null    float64\n",
      " 5   Stall Knots dirty        502 non-null    float64\n",
      " 6   Fuel gal/lbs             517 non-null    int64  \n",
      " 7   All eng rate of climb    513 non-null    float64\n",
      " 8   Eng out rate of climb    491 non-null    float64\n",
      " 9   Takeoff over 50ft        492 non-null    float64\n",
      " 10  Landing over 50ft        516 non-null    float64\n",
      " 11  Empty weight lbs         516 non-null    float64\n",
      " 12  Length ft/in             514 non-null    float64\n",
      " 13  Wing span ft/in          514 non-null    float64\n",
      " 14  Range N.M.               499 non-null    float64\n",
      " 15  Price                    507 non-null    float64\n",
      "dtypes: float64(12), int64(2), object(2)\n",
      "memory usage: 64.8+ KB\n"
     ]
    }
   ],
   "source": [
    "df.info()"
   ]
  },
  {
   "cell_type": "markdown",
   "id": "59ea4aec-57d9-4383-8b68-3986e483903a",
   "metadata": {},
   "source": [
    "//Relation Analysis"
   ]
  },
  {
   "cell_type": "code",
   "execution_count": 16,
   "id": "583a64f3-37fd-429b-8d34-21613dec73d4",
   "metadata": {},
   "outputs": [
    {
     "data": {
      "image/png": "[encoded data removed]",
      "text/plain": [
       "<Figure size 640x480 with 2 Axes>"
      ]
     },
     "metadata": {},
     "output_type": "display_data"
    }
   ],
   "source": [
    "dataplot=sns.heatmap(df.corr(numeric_only=True))\n",
    "plt.show()"
   ]
  },
  {
   "cell_type": "markdown",
   "id": "9afbeacc-fd68-43f7-9bd1-c06398d8a26d",
   "metadata": {},
   "source": [
    "//Filtering Null Values Out"
   ]
  },
  {
   "cell_type": "code",
   "execution_count": 17,
   "id": "5f0d6e0f-0183-4cc7-8643-b6c622b8d067",
   "metadata": {},
   "outputs": [],
   "source": [
    "x=df[['Rcmnd cruise Knots','All eng rate of climb','Max speed Knots']]\n",
    "p=df['Price']"
   ]
  },
  {
   "cell_type": "code",
   "execution_count": 18,
   "id": "cd4328ad-a497-4428-95ba-dcc6e90d890c",
   "metadata": {},
   "outputs": [
    {
     "data": {
      "text/plain": [
       "0"
      ]
     },
     "execution_count": 18,
     "metadata": {},
     "output_type": "execute_result"
    }
   ],
   "source": [
    "df.duplicated().sum()"
   ]
  },
  {
   "cell_type": "code",
   "execution_count": 19,
   "id": "bd04f27f-942b-4441-a5a3-b909b0f1185b",
   "metadata": {},
   "outputs": [],
   "source": [
    "df['All eng rate of climb'].fillna(df['All eng rate of climb'].mean(),inplace=True)\n",
    "df['Rcmnd cruise Knots'].fillna(df['Rcmnd cruise Knots'].mean(),inplace=True)\n",
    "df['Max speed Knots'].fillna(df['Max speed Knots'].mean(),inplace=True)\n",
    "df['Stall Knots dirty'].fillna(df['Stall Knots dirty'].mean(),inplace=True)\n",
    "df['Price'].fillna(df['Price'].mean(),inplace=True)"
   ]
  },
  {
   "cell_type": "code",
   "execution_count": 20,
   "id": "3f8d1ceb-bf1a-48c4-83a2-0c5b97c61371",
   "metadata": {},
   "outputs": [
    {
     "data": {
      "text/plain": [
       "Model Name                  0\n",
       "Engine Type                 0\n",
       "HP or lbs thr ea engine     0\n",
       "Max speed Knots             0\n",
       "Rcmnd cruise Knots          0\n",
       "Stall Knots dirty           0\n",
       "Fuel gal/lbs                0\n",
       "All eng rate of climb       0\n",
       "Eng out rate of climb      26\n",
       "Takeoff over 50ft          25\n",
       "Landing over 50ft           1\n",
       "Empty weight lbs            1\n",
       "Length ft/in                3\n",
       "Wing span ft/in             3\n",
       "Range N.M.                 18\n",
       "Price                       0\n",
       "dtype: int64"
      ]
     },
     "execution_count": 20,
     "metadata": {},
     "output_type": "execute_result"
    }
   ],
   "source": [
    "df.isnull().sum()"
   ]
  },
  {
   "cell_type": "code",
   "execution_count": 21,
   "id": "ef17190f-dfb0-41bc-b679-bbd5911f10f0",
   "metadata": {},
   "outputs": [
    {
     "name": "stdout",
     "output_type": "stream",
     "text": [
      "<class 'pandas.core.frame.DataFrame'>\n",
      "RangeIndex: 517 entries, 0 to 516\n",
      "Data columns (total 16 columns):\n",
      " #   Column                   Non-Null Count  Dtype  \n",
      "---  ------                   --------------  -----  \n",
      " 0   Model Name               517 non-null    object \n",
      " 1   Engine Type              517 non-null    object \n",
      " 2   HP or lbs thr ea engine  517 non-null    int64  \n",
      " 3   Max speed Knots          517 non-null    float64\n",
      " 4   Rcmnd cruise Knots       517 non-null    float64\n",
      " 5   Stall Knots dirty        517 non-null    float64\n",
      " 6   Fuel gal/lbs             517 non-null    int64  \n",
      " 7   All eng rate of climb    517 non-null    float64\n",
      " 8   Eng out rate of climb    491 non-null    float64\n",
      " 9   Takeoff over 50ft        492 non-null    float64\n",
      " 10  Landing over 50ft        516 non-null    float64\n",
      " 11  Empty weight lbs         516 non-null    float64\n",
      " 12  Length ft/in             514 non-null    float64\n",
      " 13  Wing span ft/in          514 non-null    float64\n",
      " 14  Range N.M.               499 non-null    float64\n",
      " 15  Price                    517 non-null    float64\n",
      "dtypes: float64(12), int64(2), object(2)\n",
      "memory usage: 64.8+ KB\n"
     ]
    }
   ],
   "source": [
    "df.info()"
   ]
  },
  {
   "cell_type": "code",
   "execution_count": 22,
   "id": "7ad2649e-cc43-4c22-9c2f-25f0fd261c75",
   "metadata": {},
   "outputs": [
    {
     "data": {
      "text/plain": [
       "<matplotlib.collections.PathCollection at 0x27229723810>"
      ]
     },
     "execution_count": 22,
     "metadata": {},
     "output_type": "execute_result"
    },
    {
     "data": {
      "image/png": "[encoded data removed]",
      "text/plain": [
       "<Figure size 640x480 with 1 Axes>"
      ]
     },
     "metadata": {},
     "output_type": "display_data"
    }
   ],
   "source": [
    "plt.scatter(df['Rcmnd cruise Knots'],df['Price'])"
   ]
  },
  {
   "cell_type": "code",
   "execution_count": 34,
   "id": "761e7681-0e67-4c9f-a219-876051a5b927",
   "metadata": {},
   "outputs": [],
   "source": [
    "x_train,x_test,p_train,p_test = train_test_split(x,p,test_size=0.2)"
   ]
  },
  {
   "cell_type": "code",
   "execution_count": 35,
   "id": "d38cfc85-e666-4b8b-9103-987ad75035c3",
   "metadata": {},
   "outputs": [
    {
     "data": {
      "text/plain": [
       "413"
      ]
     },
     "execution_count": 35,
     "metadata": {},
     "output_type": "execute_result"
    }
   ],
   "source": [
    "len(x_train)"
   ]
  },
  {
   "cell_type": "code",
   "execution_count": 36,
   "id": "b6b22617-dbad-425c-a98d-75724dc4fc7e",
   "metadata": {},
   "outputs": [
    {
     "data": {
      "text/plain": [
       "104"
      ]
     },
     "execution_count": 36,
     "metadata": {},
     "output_type": "execute_result"
    }
   ],
   "source": [
    "len(x_test)"
   ]
  },
  {
   "cell_type": "code",
   "execution_count": 37,
   "id": "81a91912-2873-4f28-b962-09b3bbd2a753",
   "metadata": {},
   "outputs": [],
   "source": [
    "clf = LinearRegression()"
   ]
  },
  {
   "cell_type": "code",
   "execution_count": 39,
   "id": "76728835-f50b-43aa-8bcc-faf15d2e872e",
   "metadata": {},
   "outputs": [
    {
     "data": {
      "text/html": [
       "<style>#sk-container-id-2 {\n",
       "  /* Definition of color scheme common for light and dark mode */\n",
       "  --sklearn-color-text: black;\n",
       "  --sklearn-color-line: gray;\n",
       "  /* Definition of color scheme for unfitted estimators */\n",
       "  --sklearn-color-unfitted-level-0: #fff5e6;\n",
       "  --sklearn-color-unfitted-level-1: #f6e4d2;\n",
       "  --sklearn-color-unfitted-level-2: #ffe0b3;\n",
       "  --sklearn-color-unfitted-level-3: chocolate;\n",
       "  /* Definition of color scheme for fitted estimators */\n",
       "  --sklearn-color-fitted-level-0: #f0f8ff;\n",
       "  --sklearn-color-fitted-level-1: #d4ebff;\n",
       "  --sklearn-color-fitted-level-2: #b3dbfd;\n",
       "  --sklearn-color-fitted-level-3: cornflowerblue;\n",
       "\n",
       "  /* Specific color for light theme */\n",
       "  --sklearn-color-text-on-default-background: var(--sg-text-color, var(--theme-code-foreground, var(--jp-content-font-color1, black)));\n",
       "  --sklearn-color-background: var(--sg-background-color, var(--theme-background, var(--jp-layout-color0, white)));\n",
       "  --sklearn-color-border-box: var(--sg-text-color, var(--theme-code-foreground, var(--jp-content-font-color1, black)));\n",
       "  --sklearn-color-icon: #696969;\n",
       "\n",
       "  @media (prefers-color-scheme: dark) {\n",
       "    /* Redefinition of color scheme for dark theme */\n",
       "    --sklearn-color-text-on-default-background: var(--sg-text-color, var(--theme-code-foreground, var(--jp-content-font-color1, white)));\n",
       "    --sklearn-color-background: var(--sg-background-color, var(--theme-background, var(--jp-layout-color0, #111)));\n",
       "    --sklearn-color-border-box: var(--sg-text-color, var(--theme-code-foreground, var(--jp-content-font-color1, white)));\n",
       "    --sklearn-color-icon: #878787;\n",
       "  }\n",
       "}\n",
       "\n",
       "#sk-container-id-2 {\n",
       "  color: var(--sklearn-color-text);\n",
       "}\n",
       "\n",
       "#sk-container-id-2 pre {\n",
       "  padding: 0;\n",
       "}\n",
       "\n",
       "#sk-container-id-2 input.sk-hidden--visually {\n",
       "  border: 0;\n",
       "  clip: rect(1px 1px 1px 1px);\n",
       "  clip: rect(1px, 1px, 1px, 1px);\n",
       "  height: 1px;\n",
       "  margin: -1px;\n",
       "  overflow: hidden;\n",
       "  padding: 0;\n",
       "  position: absolute;\n",
       "  width: 1px;\n",
       "}\n",
       "\n",
       "#sk-container-id-2 div.sk-dashed-wrapped {\n",
       "  border: 1px dashed var(--sklearn-color-line);\n",
       "  margin: 0 0.4em 0.5em 0.4em;\n",
       "  box-sizing: border-box;\n",
       "  padding-bottom: 0.4em;\n",
       "  background-color: var(--sklearn-color-background);\n",
       "}\n",
       "\n",
       "#sk-container-id-2 div.sk-container {\n",
       "  /* jupyter's `normalize.less` sets `[hidden] { display: none; }`\n",
       "     but bootstrap.min.css set `[hidden] { display: none !important; }`\n",
       "     so we also need the `!important` here to be able to override the\n",
       "     default hidden behavior on the sphinx rendered scikit-learn.org.\n",
       "     See: https://github.com/scikit-learn/scikit-learn/issues/21755 */\n",
       "  display: inline-block !important;\n",
       "  position: relative;\n",
       "}\n",
       "\n",
       "#sk-container-id-2 div.sk-text-repr-fallback {\n",
       "  display: none;\n",
       "}\n",
       "\n",
       "div.sk-parallel-item,\n",
       "div.sk-serial,\n",
       "div.sk-item {\n",
       "  /* draw centered vertical line to link estimators */\n",
       "  background-image: linear-gradient(var(--sklearn-color-text-on-default-background), var(--sklearn-color-text-on-default-background));\n",
       "  background-size: 2px 100%;\n",
       "  background-repeat: no-repeat;\n",
       "  background-position: center center;\n",
       "}\n",
       "\n",
       "/* Parallel-specific style estimator block */\n",
       "\n",
       "#sk-container-id-2 div.sk-parallel-item::after {\n",
       "  content: \"\";\n",
       "  width: 100%;\n",
       "  border-bottom: 2px solid var(--sklearn-color-text-on-default-background);\n",
       "  flex-grow: 1;\n",
       "}\n",
       "\n",
       "#sk-container-id-2 div.sk-parallel {\n",
       "  display: flex;\n",
       "  align-items: stretch;\n",
       "  justify-content: center;\n",
       "  background-color: var(--sklearn-color-background);\n",
       "  position: relative;\n",
       "}\n",
       "\n",
       "#sk-container-id-2 div.sk-parallel-item {\n",
       "  display: flex;\n",
       "  flex-direction: column;\n",
       "}\n",
       "\n",
       "#sk-container-id-2 div.sk-parallel-item:first-child::after {\n",
       "  align-self: flex-end;\n",
       "  width: 50%;\n",
       "}\n",
       "\n",
       "#sk-container-id-2 div.sk-parallel-item:last-child::after {\n",
       "  align-self: flex-start;\n",
       "  width: 50%;\n",
       "}\n",
       "\n",
       "#sk-container-id-2 div.sk-parallel-item:only-child::after {\n",
       "  width: 0;\n",
       "}\n",
       "\n",
       "/* Serial-specific style estimator block */\n",
       "\n",
       "#sk-container-id-2 div.sk-serial {\n",
       "  display: flex;\n",
       "  flex-direction: column;\n",
       "  align-items: center;\n",
       "  background-color: var(--sklearn-color-background);\n",
       "  padding-right: 1em;\n",
       "  padding-left: 1em;\n",
       "}\n",
       "\n",
       "\n",
       "/* Toggleable style: style used for estimator/Pipeline/ColumnTransformer box that is\n",
       "clickable and can be expanded/collapsed.\n",
       "- Pipeline and ColumnTransformer use this feature and define the default style\n",
       "- Estimators will overwrite some part of the style using the `sk-estimator` class\n",
       "*/\n",
       "\n",
       "/* Pipeline and ColumnTransformer style (default) */\n",
       "\n",
       "#sk-container-id-2 div.sk-toggleable {\n",
       "  /* Default theme specific background. It is overwritten whether we have a\n",
       "  specific estimator or a Pipeline/ColumnTransformer */\n",
       "  background-color: var(--sklearn-color-background);\n",
       "}\n",
       "\n",
       "/* Toggleable label */\n",
       "#sk-container-id-2 label.sk-toggleable__label {\n",
       "  cursor: pointer;\n",
       "  display: block;\n",
       "  width: 100%;\n",
       "  margin-bottom: 0;\n",
       "  padding: 0.5em;\n",
       "  box-sizing: border-box;\n",
       "  text-align: center;\n",
       "}\n",
       "\n",
       "#sk-container-id-2 label.sk-toggleable__label-arrow:before {\n",
       "  /* Arrow on the left of the label */\n",
       "  content: \"▸\";\n",
       "  float: left;\n",
       "  margin-right: 0.25em;\n",
       "  color: var(--sklearn-color-icon);\n",
       "}\n",
       "\n",
       "#sk-container-id-2 label.sk-toggleable__label-arrow:hover:before {\n",
       "  color: var(--sklearn-color-text);\n",
       "}\n",
       "\n",
       "/* Toggleable content - dropdown */\n",
       "\n",
       "#sk-container-id-2 div.sk-toggleable__content {\n",
       "  max-height: 0;\n",
       "  max-width: 0;\n",
       "  overflow: hidden;\n",
       "  text-align: left;\n",
       "  /* unfitted */\n",
       "  background-color: var(--sklearn-color-unfitted-level-0);\n",
       "}\n",
       "\n",
       "#sk-container-id-2 div.sk-toggleable__content.fitted {\n",
       "  /* fitted */\n",
       "  background-color: var(--sklearn-color-fitted-level-0);\n",
       "}\n",
       "\n",
       "#sk-container-id-2 div.sk-toggleable__content pre {\n",
       "  margin: 0.2em;\n",
       "  border-radius: 0.25em;\n",
       "  color: var(--sklearn-color-text);\n",
       "  /* unfitted */\n",
       "  background-color: var(--sklearn-color-unfitted-level-0);\n",
       "}\n",
       "\n",
       "#sk-container-id-2 div.sk-toggleable__content.fitted pre {\n",
       "  /* unfitted */\n",
       "  background-color: var(--sklearn-color-fitted-level-0);\n",
       "}\n",
       "\n",
       "#sk-container-id-2 input.sk-toggleable__control:checked~div.sk-toggleable__content {\n",
       "  /* Expand drop-down */\n",
       "  max-height: 200px;\n",
       "  max-width: 100%;\n",
       "  overflow: auto;\n",
       "}\n",
       "\n",
       "#sk-container-id-2 input.sk-toggleable__control:checked~label.sk-toggleable__label-arrow:before {\n",
       "  content: \"▾\";\n",
       "}\n",
       "\n",
       "/* Pipeline/ColumnTransformer-specific style */\n",
       "\n",
       "#sk-container-id-2 div.sk-label input.sk-toggleable__control:checked~label.sk-toggleable__label {\n",
       "  color: var(--sklearn-color-text);\n",
       "  background-color: var(--sklearn-color-unfitted-level-2);\n",
       "}\n",
       "\n",
       "#sk-container-id-2 div.sk-label.fitted input.sk-toggleable__control:checked~label.sk-toggleable__label {\n",
       "  background-color: var(--sklearn-color-fitted-level-2);\n",
       "}\n",
       "\n",
       "/* Estimator-specific style */\n",
       "\n",
       "/* Colorize estimator box */\n",
       "#sk-container-id-2 div.sk-estimator input.sk-toggleable__control:checked~label.sk-toggleable__label {\n",
       "  /* unfitted */\n",
       "  background-color: var(--sklearn-color-unfitted-level-2);\n",
       "}\n",
       "\n",
       "#sk-container-id-2 div.sk-estimator.fitted input.sk-toggleable__control:checked~label.sk-toggleable__label {\n",
       "  /* fitted */\n",
       "  background-color: var(--sklearn-color-fitted-level-2);\n",
       "}\n",
       "\n",
       "#sk-container-id-2 div.sk-label label.sk-toggleable__label,\n",
       "#sk-container-id-2 div.sk-label label {\n",
       "  /* The background is the default theme color */\n",
       "  color: var(--sklearn-color-text-on-default-background);\n",
       "}\n",
       "\n",
       "/* On hover, darken the color of the background */\n",
       "#sk-container-id-2 div.sk-label:hover label.sk-toggleable__label {\n",
       "  color: var(--sklearn-color-text);\n",
       "  background-color: var(--sklearn-color-unfitted-level-2);\n",
       "}\n",
       "\n",
       "/* Label box, darken color on hover, fitted */\n",
       "#sk-container-id-2 div.sk-label.fitted:hover label.sk-toggleable__label.fitted {\n",
       "  color: var(--sklearn-color-text);\n",
       "  background-color: var(--sklearn-color-fitted-level-2);\n",
       "}\n",
       "\n",
       "/* Estimator label */\n",
       "\n",
       "#sk-container-id-2 div.sk-label label {\n",
       "  font-family: monospace;\n",
       "  font-weight: bold;\n",
       "  display: inline-block;\n",
       "  line-height: 1.2em;\n",
       "}\n",
       "\n",
       "#sk-container-id-2 div.sk-label-container {\n",
       "  text-align: center;\n",
       "}\n",
       "\n",
       "/* Estimator-specific */\n",
       "#sk-container-id-2 div.sk-estimator {\n",
       "  font-family: monospace;\n",
       "  border: 1px dotted var(--sklearn-color-border-box);\n",
       "  border-radius: 0.25em;\n",
       "  box-sizing: border-box;\n",
       "  margin-bottom: 0.5em;\n",
       "  /* unfitted */\n",
       "  background-color: var(--sklearn-color-unfitted-level-0);\n",
       "}\n",
       "\n",
       "#sk-container-id-2 div.sk-estimator.fitted {\n",
       "  /* fitted */\n",
       "  background-color: var(--sklearn-color-fitted-level-0);\n",
       "}\n",
       "\n",
       "/* on hover */\n",
       "#sk-container-id-2 div.sk-estimator:hover {\n",
       "  /* unfitted */\n",
       "  background-color: var(--sklearn-color-unfitted-level-2);\n",
       "}\n",
       "\n",
       "#sk-container-id-2 div.sk-estimator.fitted:hover {\n",
       "  /* fitted */\n",
       "  background-color: var(--sklearn-color-fitted-level-2);\n",
       "}\n",
       "\n",
       "/* Specification for estimator info (e.g. \"i\" and \"?\") */\n",
       "\n",
       "/* Common style for \"i\" and \"?\" */\n",
       "\n",
       ".sk-estimator-doc-link,\n",
       "a:link.sk-estimator-doc-link,\n",
       "a:visited.sk-estimator-doc-link {\n",
       "  float: right;\n",
       "  font-size: smaller;\n",
       "  line-height: 1em;\n",
       "  font-family: monospace;\n",
       "  background-color: var(--sklearn-color-background);\n",
       "  border-radius: 1em;\n",
       "  height: 1em;\n",
       "  width: 1em;\n",
       "  text-decoration: none !important;\n",
       "  margin-left: 1ex;\n",
       "  /* unfitted */\n",
       "  border: var(--sklearn-color-unfitted-level-1) 1pt solid;\n",
       "  color: var(--sklearn-color-unfitted-level-1);\n",
       "}\n",
       "\n",
       ".sk-estimator-doc-link.fitted,\n",
       "a:link.sk-estimator-doc-link.fitted,\n",
       "a:visited.sk-estimator-doc-link.fitted {\n",
       "  /* fitted */\n",
       "  border: var(--sklearn-color-fitted-level-1) 1pt solid;\n",
       "  color: var(--sklearn-color-fitted-level-1);\n",
       "}\n",
       "\n",
       "/* On hover */\n",
       "div.sk-estimator:hover .sk-estimator-doc-link:hover,\n",
       ".sk-estimator-doc-link:hover,\n",
       "div.sk-label-container:hover .sk-estimator-doc-link:hover,\n",
       ".sk-estimator-doc-link:hover {\n",
       "  /* unfitted */\n",
       "  background-color: var(--sklearn-color-unfitted-level-3);\n",
       "  color: var(--sklearn-color-background);\n",
       "  text-decoration: none;\n",
       "}\n",
       "\n",
       "div.sk-estimator.fitted:hover .sk-estimator-doc-link.fitted:hover,\n",
       ".sk-estimator-doc-link.fitted:hover,\n",
       "div.sk-label-container:hover .sk-estimator-doc-link.fitted:hover,\n",
       ".sk-estimator-doc-link.fitted:hover {\n",
       "  /* fitted */\n",
       "  background-color: var(--sklearn-color-fitted-level-3);\n",
       "  color: var(--sklearn-color-background);\n",
       "  text-decoration: none;\n",
       "}\n",
       "\n",
       "/* Span, style for the box shown on hovering the info icon */\n",
       ".sk-estimator-doc-link span {\n",
       "  display: none;\n",
       "  z-index: 9999;\n",
       "  position: relative;\n",
       "  font-weight: normal;\n",
       "  right: .2ex;\n",
       "  padding: .5ex;\n",
       "  margin: .5ex;\n",
       "  width: min-content;\n",
       "  min-width: 20ex;\n",
       "  max-width: 50ex;\n",
       "  color: var(--sklearn-color-text);\n",
       "  box-shadow: 2pt 2pt 4pt #999;\n",
       "  /* unfitted */\n",
       "  background: var(--sklearn-color-unfitted-level-0);\n",
       "  border: .5pt solid var(--sklearn-color-unfitted-level-3);\n",
       "}\n",
       "\n",
       ".sk-estimator-doc-link.fitted span {\n",
       "  /* fitted */\n",
       "  background: var(--sklearn-color-fitted-level-0);\n",
       "  border: var(--sklearn-color-fitted-level-3);\n",
       "}\n",
       "\n",
       ".sk-estimator-doc-link:hover span {\n",
       "  display: block;\n",
       "}\n",
       "\n",
       "/* \"?\"-specific style due to the `<a>` HTML tag */\n",
       "\n",
       "#sk-container-id-2 a.estimator_doc_link {\n",
       "  float: right;\n",
       "  font-size: 1rem;\n",
       "  line-height: 1em;\n",
       "  font-family: monospace;\n",
       "  background-color: var(--sklearn-color-background);\n",
       "  border-radius: 1rem;\n",
       "  height: 1rem;\n",
       "  width: 1rem;\n",
       "  text-decoration: none;\n",
       "  /* unfitted */\n",
       "  color: var(--sklearn-color-unfitted-level-1);\n",
       "  border: var(--sklearn-color-unfitted-level-1) 1pt solid;\n",
       "}\n",
       "\n",
       "#sk-container-id-2 a.estimator_doc_link.fitted {\n",
       "  /* fitted */\n",
       "  border: var(--sklearn-color-fitted-level-1) 1pt solid;\n",
       "  color: var(--sklearn-color-fitted-level-1);\n",
       "}\n",
       "\n",
       "/* On hover */\n",
       "#sk-container-id-2 a.estimator_doc_link:hover {\n",
       "  /* unfitted */\n",
       "  background-color: var(--sklearn-color-unfitted-level-3);\n",
       "  color: var(--sklearn-color-background);\n",
       "  text-decoration: none;\n",
       "}\n",
       "\n",
       "#sk-container-id-2 a.estimator_doc_link.fitted:hover {\n",
       "  /* fitted */\n",
       "  background-color: var(--sklearn-color-fitted-level-3);\n",
       "}\n",
       "</style><div id=\"sk-container-id-2\" class=\"sk-top-container\"><div class=\"sk-text-repr-fallback\"><pre>LinearRegression()</pre><b>In a Jupyter environment, please rerun this cell to show the HTML representation or trust the notebook. <br />On GitHub, the HTML representation is unable to render, please try loading this page with nbviewer.org.</b></div><div class=\"sk-container\" hidden><div class=\"sk-item\"><div class=\"sk-estimator fitted sk-toggleable\"><input class=\"sk-toggleable__control sk-hidden--visually\" id=\"sk-estimator-id-2\" type=\"checkbox\" checked><label for=\"sk-estimator-id-2\" class=\"sk-toggleable__label fitted sk-toggleable__label-arrow fitted\">&nbsp;&nbsp;LinearRegression<a class=\"sk-estimator-doc-link fitted\" rel=\"noreferrer\" target=\"_blank\" href=\"https://scikit-learn.org/1.5/modules/generated/sklearn.linear_model.LinearRegression.html\">?<span>Documentation for LinearRegression</span></a><span class=\"sk-estimator-doc-link fitted\">i<span>Fitted</span></span></label><div class=\"sk-toggleable__content fitted\"><pre>LinearRegression()</pre></div> </div></div></div></div>"
      ],
      "text/plain": [
       "LinearRegression()"
      ]
     },
     "execution_count": 39,
     "metadata": {},
     "output_type": "execute_result"
    }
   ],
   "source": [
    "clf.fit(x_train,p_train)"
   ]
  },
  {
   "cell_type": "code",
   "execution_count": 44,
   "id": "6fd547b3-462d-4f7e-a44c-742b50d71e36",
   "metadata": {},
   "outputs": [
    {
     "data": {
      "text/plain": [
       "array([2076794.60936884, 1634210.4147086 , 1351076.85331818,\n",
       "       2489381.86652453, 4079340.04748856, 2177944.92806093,\n",
       "       1814067.9598458 , 2577921.35829629, 2042708.68990036,\n",
       "       1387340.26525663, 1591553.51759346, 3131873.55322078,\n",
       "       2585878.38111847, 1773909.55567829, 2096259.54496533,\n",
       "       1658732.88635368, 2338318.63548272, 2886269.36905441,\n",
       "       3586473.65906332, 1799686.90285166, 1296421.34236843,\n",
       "       4804265.73524906, 1365214.77337868, 1462513.51961171,\n",
       "       2541482.00044065, 1771666.41641478, 1444739.01875344,\n",
       "       1835191.92168524, 2205983.16116121, 4527365.7255058 ,\n",
       "       2070995.5673788 , 2399219.76928262, 1698453.43392255,\n",
       "       2018474.31918184, 1647441.79865793, 2583375.68172933,\n",
       "       1487150.54998908, 1588353.12756144, 1800206.29702153,\n",
       "       1982896.13791587, 2481573.17676147, 2068661.64062946,\n",
       "       2892660.58754107, 4751481.96009059, 2774653.63065368,\n",
       "       2223068.34651546, 1643735.6762879 , 1562604.66355047,\n",
       "       1830128.01869215, 4744536.45511155, 4848593.83761344,\n",
       "       2019354.04876782, 4576168.92377661, 3597574.3103989 ,\n",
       "       1815757.41347406, 1330156.86105833, 1440115.44452475,\n",
       "       2028623.02872014, 2527150.04543808, 1761538.6104286 ,\n",
       "       2123463.01247256, 1770090.54040885, 2269130.12038074,\n",
       "       2248148.39857451, 2061623.80394167, 2300086.61400241,\n",
       "       2933295.37691278, 1843324.42645319, 1787193.93639793,\n",
       "       2239830.91872627, 3374467.50159712, 2713400.14780911,\n",
       "       2647482.2115745 , 4750497.71274406, 1514291.30683998,\n",
       "       1914829.74468232, 3671633.43820309, 4429009.60723804,\n",
       "       1257582.60102274, 3014793.55598224, 1730595.38311021,\n",
       "       1655997.34949831, 1451368.34597641, 1685624.19249354,\n",
       "       2652205.29078933, 1177911.81003172, 1988369.01434522,\n",
       "       2009012.2322303 , 5140706.83984656, 4693440.24699695,\n",
       "       2787560.94937573, 3236810.89953109, 4738140.90152791,\n",
       "       1803510.74084268, 2221045.31082918, 1925241.56676353,\n",
       "       2028009.56856577, 1552795.38587616, 4159383.68703319,\n",
       "       1699066.4301055 , 2428548.47037955, 2043750.17115739,\n",
       "       2915627.30348793, 1456355.41250989])"
      ]
     },
     "execution_count": 44,
     "metadata": {},
     "output_type": "execute_result"
    }
   ],
   "source": [
    "clf.predict(x_test)"
   ]
  },
  {
   "cell_type": "code",
   "execution_count": 45,
   "id": "a8e55b01-c229-4c53-ac81-4c3b5b71b106",
   "metadata": {},
   "outputs": [
    {
     "data": {
      "text/plain": [
       "299    2000000.0\n",
       "444    1350000.0\n",
       "341    1200000.0\n",
       "479    2600000.0\n",
       "432    4100000.0\n",
       "         ...    \n",
       "263    1390000.0\n",
       "205    2618000.0\n",
       "147    2100000.0\n",
       "176    5100000.0\n",
       "16     1400000.0\n",
       "Name: Price, Length: 104, dtype: float64"
      ]
     },
     "execution_count": 45,
     "metadata": {},
     "output_type": "execute_result"
    }
   ],
   "source": [
    "p_test"
   ]
  },
  {
   "cell_type": "code",
   "execution_count": 47,
   "id": "c250bb70-21c4-4fd7-ac45-a78084d6fb3e",
   "metadata": {},
   "outputs": [
    {
     "data": {
      "text/plain": [
       "0.817321721658255"
      ]
     },
     "execution_count": 47,
     "metadata": {},
     "output_type": "execute_result"
    }
   ],
   "source": [
    "clf.score(x_test,p_test)"
   ]
  },
  {
   "cell_type": "code",
   "execution_count": null,
   "id": "03d761fb-5efd-4ed4-aeae-eaf454a643b2",
   "metadata": {},
   "outputs": [],
   "source": []
  }
 ],
 "metadata": {
  "kernelspec": {
   "display_name": "Python 3 (ipykernel)",
   "language": "python",
   "name": "python3"
  },
  "language_info": {
   "codemirror_mode": {
    "name": "ipython",
    "version": 3
   },
   "file_extension": ".py",
   "mimetype": "text/x-python",
   "name": "python",
   "nbconvert_exporter": "python",
   "pygments_lexer": "ipython3",
   "version": "3.11.4"
  }
 },
 "nbformat": 4,
 "nbformat_minor": 5
}
